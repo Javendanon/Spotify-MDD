{
 "cells": [
  {
   "cell_type": "code",
   "execution_count": 5,
   "metadata": {},
   "outputs": [
    {
     "name": "stdout",
     "output_type": "stream",
     "text": [
      "Requirement already satisfied: numpy in /home/mariam/.local/lib/python3.8/site-packages (1.20.3)\n",
      "Requirement already satisfied: pandas in /home/mariam/.local/lib/python3.8/site-packages (1.2.4)\n",
      "Requirement already satisfied: keras in /home/mariam/.local/lib/python3.8/site-packages (2.4.3)\n",
      "Requirement already satisfied: seaborn in /home/mariam/.local/lib/python3.8/site-packages (0.11.1)\n",
      "Requirement already satisfied: matplotlib in /home/mariam/.local/lib/python3.8/site-packages (3.4.2)\n",
      "Requirement already satisfied: pandas_profiling in /home/mariam/.local/lib/python3.8/site-packages (3.0.0)\n",
      "Requirement already satisfied: factor_analyzer in /home/mariam/.local/lib/python3.8/site-packages (0.3.2)\n",
      "Requirement already satisfied: sklearn in /home/mariam/.local/lib/python3.8/site-packages (0.0)\n",
      "Collecting tensorflow\n",
      "  Downloading tensorflow-2.5.0-cp38-cp38-manylinux2010_x86_64.whl (454.4 MB)\n",
      "\u001b[K     |████████████████████████████████| 454.4 MB 83 kB/s s eta 0:00:01     |███████████████████████████▉    | 395.9 MB 67.8 MB/s eta 0:00:01\n",
      "\u001b[?25hRequirement already satisfied: python-dateutil>=2.7.3 in /home/mariam/.local/lib/python3.8/site-packages (from pandas) (2.8.1)\n",
      "Requirement already satisfied: pytz>=2017.3 in /home/mariam/.local/lib/python3.8/site-packages (from pandas) (2021.1)\n",
      "Requirement already satisfied: h5py in /home/mariam/.local/lib/python3.8/site-packages (from keras) (3.3.0)\n",
      "Requirement already satisfied: scipy>=0.14 in /home/mariam/.local/lib/python3.8/site-packages (from keras) (1.7.0)\n",
      "Requirement already satisfied: pyyaml in /usr/lib/python3/dist-packages (from keras) (5.3.1)\n",
      "Requirement already satisfied: pyparsing>=2.2.1 in /home/mariam/.local/lib/python3.8/site-packages (from matplotlib) (2.4.7)\n",
      "Requirement already satisfied: pillow>=6.2.0 in /home/mariam/.local/lib/python3.8/site-packages (from matplotlib) (8.2.0)\n",
      "Requirement already satisfied: cycler>=0.10 in /home/mariam/.local/lib/python3.8/site-packages (from matplotlib) (0.10.0)\n",
      "Requirement already satisfied: kiwisolver>=1.0.1 in /home/mariam/.local/lib/python3.8/site-packages (from matplotlib) (1.3.1)\n",
      "Requirement already satisfied: visions[type_image_path]==0.7.1 in /home/mariam/.local/lib/python3.8/site-packages (from pandas_profiling) (0.7.1)\n",
      "Requirement already satisfied: requests>=2.24.0 in /home/mariam/.local/lib/python3.8/site-packages (from pandas_profiling) (2.25.1)\n",
      "Requirement already satisfied: jinja2>=2.11.1 in /home/mariam/.local/lib/python3.8/site-packages (from pandas_profiling) (3.0.1)\n",
      "Requirement already satisfied: joblib in /home/mariam/.local/lib/python3.8/site-packages (from pandas_profiling) (1.0.1)\n",
      "Requirement already satisfied: missingno>=0.4.2 in /home/mariam/.local/lib/python3.8/site-packages (from pandas_profiling) (0.5.0)\n",
      "Requirement already satisfied: phik>=0.11.1 in /home/mariam/.local/lib/python3.8/site-packages (from pandas_profiling) (0.11.2)\n",
      "Requirement already satisfied: tqdm>=4.48.2 in /home/mariam/.local/lib/python3.8/site-packages (from pandas_profiling) (4.61.2)\n",
      "Requirement already satisfied: pydantic>=1.8.1 in /home/mariam/.local/lib/python3.8/site-packages (from pandas_profiling) (1.8.2)\n",
      "Requirement already satisfied: tangled-up-in-unicode==0.1.0 in /home/mariam/.local/lib/python3.8/site-packages (from pandas_profiling) (0.1.0)\n",
      "Requirement already satisfied: htmlmin>=0.1.12 in /home/mariam/.local/lib/python3.8/site-packages (from pandas_profiling) (0.1.12)\n",
      "Requirement already satisfied: scikit-learn in /home/mariam/.local/lib/python3.8/site-packages (from factor_analyzer) (0.24.2)\n",
      "Collecting wrapt~=1.12.1\n",
      "  Downloading wrapt-1.12.1.tar.gz (27 kB)\n",
      "Collecting grpcio~=1.34.0\n",
      "  Downloading grpcio-1.34.1-cp38-cp38-manylinux2014_x86_64.whl (4.0 MB)\n",
      "\u001b[K     |████████████████████████████████| 4.0 MB 8.1 kB/s  eta 0:00:01\n",
      "\u001b[?25hCollecting opt-einsum~=3.3.0\n",
      "  Downloading opt_einsum-3.3.0-py3-none-any.whl (65 kB)\n",
      "\u001b[K     |████████████████████████████████| 65 kB 5.6 MB/s  eta 0:00:01\n",
      "\u001b[?25hCollecting flatbuffers~=1.12.0\n",
      "  Downloading flatbuffers-1.12-py2.py3-none-any.whl (15 kB)\n",
      "Requirement already satisfied: protobuf>=3.9.2 in /home/mariam/.local/lib/python3.8/site-packages (from tensorflow) (3.17.3)\n",
      "Collecting tensorboard~=2.5\n",
      "  Downloading tensorboard-2.5.0-py3-none-any.whl (6.0 MB)\n",
      "\u001b[K     |████████████████████████████████| 6.0 MB 27.6 MB/s eta 0:00:01\n",
      "\u001b[?25hCollecting astunparse~=1.6.3\n",
      "  Downloading astunparse-1.6.3-py2.py3-none-any.whl (12 kB)\n",
      "Collecting google-pasta~=0.2\n",
      "  Downloading google_pasta-0.2.0-py3-none-any.whl (57 kB)\n",
      "\u001b[K     |████████████████████████████████| 57 kB 11.7 MB/s eta 0:00:01\n",
      "\u001b[?25hCollecting absl-py~=0.10\n",
      "  Downloading absl_py-0.13.0-py3-none-any.whl (132 kB)\n",
      "\u001b[K     |████████████████████████████████| 132 kB 40.1 MB/s eta 0:00:01\n",
      "\u001b[?25hCollecting wheel~=0.35\n",
      "  Using cached wheel-0.36.2-py2.py3-none-any.whl (35 kB)\n",
      "Collecting six~=1.15.0\n",
      "  Downloading six-1.15.0-py2.py3-none-any.whl (10 kB)\n",
      "Collecting tensorflow-estimator<2.6.0,>=2.5.0rc0\n",
      "  Downloading tensorflow_estimator-2.5.0-py2.py3-none-any.whl (462 kB)\n",
      "\u001b[K     |████████████████████████████████| 462 kB 50.0 MB/s eta 0:00:01\n",
      "\u001b[?25hCollecting keras-nightly~=2.5.0.dev\n",
      "  Downloading keras_nightly-2.5.0.dev2021032900-py2.py3-none-any.whl (1.2 MB)\n",
      "\u001b[K     |████████████████████████████████| 1.2 MB 72.6 MB/s eta 0:00:01\n",
      "\u001b[?25hCollecting gast==0.4.0\n",
      "  Downloading gast-0.4.0-py3-none-any.whl (9.8 kB)\n",
      "Collecting termcolor~=1.1.0\n",
      "  Downloading termcolor-1.1.0.tar.gz (3.9 kB)\n",
      "Collecting typing-extensions~=3.7.4\n",
      "  Downloading typing_extensions-3.7.4.3-py3-none-any.whl (22 kB)\n",
      "Collecting keras-preprocessing~=1.1.2\n",
      "  Downloading Keras_Preprocessing-1.1.2-py2.py3-none-any.whl (42 kB)\n",
      "\u001b[K     |████████████████████████████████| 42 kB 2.9 MB/s  eta 0:00:01\n",
      "\u001b[?25hRequirement already satisfied: attrs>=19.3.0 in /usr/lib/python3/dist-packages (from visions[type_image_path]==0.7.1->pandas_profiling) (19.3.0)\n",
      "Requirement already satisfied: multimethod==1.4 in /home/mariam/.local/lib/python3.8/site-packages (from visions[type_image_path]==0.7.1->pandas_profiling) (1.4)\n",
      "Requirement already satisfied: networkx>=2.4 in /home/mariam/.local/lib/python3.8/site-packages (from visions[type_image_path]==0.7.1->pandas_profiling) (2.5.1)\n",
      "Requirement already satisfied: bottleneck in /home/mariam/.local/lib/python3.8/site-packages (from visions[type_image_path]==0.7.1->pandas_profiling) (1.3.2)\n",
      "Requirement already satisfied: imagehash; extra == \"type_image_path\" in /home/mariam/.local/lib/python3.8/site-packages (from visions[type_image_path]==0.7.1->pandas_profiling) (4.2.0)\n",
      "Requirement already satisfied: chardet<5,>=3.0.2 in /usr/lib/python3/dist-packages (from requests>=2.24.0->pandas_profiling) (3.0.4)\n",
      "Requirement already satisfied: certifi>=2017.4.17 in /usr/lib/python3/dist-packages (from requests>=2.24.0->pandas_profiling) (2019.11.28)\n",
      "Requirement already satisfied: idna<3,>=2.5 in /usr/lib/python3/dist-packages (from requests>=2.24.0->pandas_profiling) (2.8)\n",
      "Requirement already satisfied: urllib3<1.27,>=1.21.1 in /usr/lib/python3/dist-packages (from requests>=2.24.0->pandas_profiling) (1.25.8)\n",
      "Requirement already satisfied: MarkupSafe>=2.0 in /home/mariam/.local/lib/python3.8/site-packages (from jinja2>=2.11.1->pandas_profiling) (2.0.1)\n",
      "Requirement already satisfied: threadpoolctl>=2.0.0 in /home/mariam/.local/lib/python3.8/site-packages (from scikit-learn->factor_analyzer) (2.2.0)\n",
      "Collecting tensorboard-plugin-wit>=1.6.0\n",
      "  Downloading tensorboard_plugin_wit-1.8.0-py3-none-any.whl (781 kB)\n",
      "\u001b[K     |████████████████████████████████| 781 kB 54.9 MB/s eta 0:00:01\n",
      "\u001b[?25hRequirement already satisfied: setuptools>=41.0.0 in /usr/lib/python3/dist-packages (from tensorboard~=2.5->tensorflow) (45.2.0)\n",
      "Collecting google-auth-oauthlib<0.5,>=0.4.1\n",
      "  Downloading google_auth_oauthlib-0.4.4-py2.py3-none-any.whl (18 kB)\n",
      "Requirement already satisfied: google-auth<2,>=1.6.3 in /home/mariam/.local/lib/python3.8/site-packages (from tensorboard~=2.5->tensorflow) (1.32.0)\n",
      "Collecting werkzeug>=0.11.15\n",
      "  Downloading Werkzeug-2.0.1-py3-none-any.whl (288 kB)\n",
      "\u001b[K     |████████████████████████████████| 288 kB 47.7 MB/s eta 0:00:01\n",
      "\u001b[?25hCollecting markdown>=2.6.8\n",
      "  Downloading Markdown-3.3.4-py3-none-any.whl (97 kB)\n",
      "\u001b[K     |████████████████████████████████| 97 kB 13.4 MB/s eta 0:00:01\n"
     ]
    },
    {
     "name": "stdout",
     "output_type": "stream",
     "text": [
      "\u001b[?25hCollecting tensorboard-data-server<0.7.0,>=0.6.0\n",
      "  Downloading tensorboard_data_server-0.6.1-py3-none-manylinux2010_x86_64.whl (4.9 MB)\n",
      "\u001b[K     |████████████████████████████████| 4.9 MB 51.1 MB/s eta 0:00:01\u001b[K     |████████████████████████████████| 4.9 MB 51.1 MB/s \n",
      "\u001b[?25hRequirement already satisfied: decorator<5,>=4.3 in /home/mariam/.local/lib/python3.8/site-packages (from networkx>=2.4->visions[type_image_path]==0.7.1->pandas_profiling) (4.4.2)\n",
      "Requirement already satisfied: PyWavelets in /home/mariam/.local/lib/python3.8/site-packages (from imagehash; extra == \"type_image_path\"->visions[type_image_path]==0.7.1->pandas_profiling) (1.1.1)\n",
      "Collecting requests-oauthlib>=0.7.0\n",
      "  Downloading requests_oauthlib-1.3.0-py2.py3-none-any.whl (23 kB)\n",
      "Requirement already satisfied: pyasn1-modules>=0.2.1 in /usr/lib/python3/dist-packages (from google-auth<2,>=1.6.3->tensorboard~=2.5->tensorflow) (0.2.1)\n",
      "Requirement already satisfied: rsa<5,>=3.1.4; python_version >= \"3.6\" in /home/mariam/.local/lib/python3.8/site-packages (from google-auth<2,>=1.6.3->tensorboard~=2.5->tensorflow) (4.7.2)\n",
      "Requirement already satisfied: cachetools<5.0,>=2.0.0 in /home/mariam/.local/lib/python3.8/site-packages (from google-auth<2,>=1.6.3->tensorboard~=2.5->tensorflow) (4.2.2)\n",
      "Requirement already satisfied: oauthlib>=3.0.0 in /usr/lib/python3/dist-packages (from requests-oauthlib>=0.7.0->google-auth-oauthlib<0.5,>=0.4.1->tensorboard~=2.5->tensorflow) (3.1.0)\n",
      "Requirement already satisfied: pyasn1>=0.1.3 in /usr/lib/python3/dist-packages (from rsa<5,>=3.1.4; python_version >= \"3.6\"->google-auth<2,>=1.6.3->tensorboard~=2.5->tensorflow) (0.4.2)\n",
      "Building wheels for collected packages: wrapt, termcolor\n",
      "  Building wheel for wrapt (setup.py) ... \u001b[?25ldone\n",
      "\u001b[?25h  Created wheel for wrapt: filename=wrapt-1.12.1-cp38-cp38-linux_x86_64.whl size=78522 sha256=20951f58b53945e760b61645b82e9c2ec57def0a04b9b7a1739fdba208c04de7\n",
      "  Stored in directory: /home/mariam/.cache/pip/wheels/5f/fd/9e/b6cf5890494cb8ef0b5eaff72e5d55a70fb56316007d6dfe73\n",
      "  Building wheel for termcolor (setup.py) ... \u001b[?25ldone\n",
      "\u001b[?25h  Created wheel for termcolor: filename=termcolor-1.1.0-py3-none-any.whl size=4830 sha256=6826bada0bcd7826c3b0d32506b429346b9b15b289211c97f11b175e157f6a04\n",
      "  Stored in directory: /home/mariam/.cache/pip/wheels/a0/16/9c/5473df82468f958445479c59e784896fa24f4a5fc024b0f501\n",
      "Successfully built wrapt termcolor\n",
      "\u001b[31mERROR: launchpadlib 1.10.13 requires testresources, which is not installed.\u001b[0m\n",
      "\u001b[31mERROR: tensorflow 2.5.0 has requirement h5py~=3.1.0, but you'll have h5py 3.3.0 which is incompatible.\u001b[0m\n",
      "\u001b[31mERROR: tensorflow 2.5.0 has requirement numpy~=1.19.2, but you'll have numpy 1.20.3 which is incompatible.\u001b[0m\n",
      "Installing collected packages: wrapt, six, grpcio, opt-einsum, flatbuffers, wheel, tensorboard-plugin-wit, requests-oauthlib, google-auth-oauthlib, absl-py, werkzeug, markdown, tensorboard-data-server, tensorboard, astunparse, google-pasta, tensorflow-estimator, keras-nightly, gast, termcolor, typing-extensions, keras-preprocessing, tensorflow\n",
      "  Attempting uninstall: grpcio\n",
      "    Found existing installation: grpcio 1.38.1\n",
      "    Uninstalling grpcio-1.38.1:\n",
      "      Successfully uninstalled grpcio-1.38.1\n",
      "  Attempting uninstall: typing-extensions\n",
      "    Found existing installation: typing-extensions 3.10.0.0\n",
      "    Uninstalling typing-extensions-3.10.0.0:\n",
      "      Successfully uninstalled typing-extensions-3.10.0.0\n",
      "Successfully installed absl-py-0.13.0 astunparse-1.6.3 flatbuffers-1.12 gast-0.4.0 google-auth-oauthlib-0.4.4 google-pasta-0.2.0 grpcio-1.34.1 keras-nightly-2.5.0.dev2021032900 keras-preprocessing-1.1.2 markdown-3.3.4 opt-einsum-3.3.0 requests-oauthlib-1.3.0 six-1.15.0 tensorboard-2.5.0 tensorboard-data-server-0.6.1 tensorboard-plugin-wit-1.8.0 tensorflow-2.5.0 tensorflow-estimator-2.5.0 termcolor-1.1.0 typing-extensions-3.7.4.3 werkzeug-2.0.1 wheel-0.36.2 wrapt-1.12.1\n"
     ]
    }
   ],
   "source": [
    "!pip install numpy pandas keras seaborn matplotlib pandas_profiling factor_analyzer sklearn tensorflow"
   ]
  },
  {
   "cell_type": "code",
   "execution_count": 2,
   "metadata": {
    "colab": {
     "base_uri": "https://localhost:8080/"
    },
    "id": "DcDe-3vteTEv",
    "outputId": "bb756924-34ab-44a7-8671-66bc324891bb"
   },
   "outputs": [],
   "source": [
    "import numpy as np \n",
    "import pandas as pd\n",
    "import keras\n",
    "import seaborn as sns\n",
    "import matplotlib\n",
    "import warnings\n",
    "\n",
    "%matplotlib inline\n",
    "\n",
    "from pandas_profiling import ProfileReport\n",
    "from matplotlib import pyplot as plt\n",
    "\n",
    "from factor_analyzer import FactorAnalyzer\n",
    "from factor_analyzer.factor_analyzer import calculate_bartlett_sphericity\n",
    "from factor_analyzer.factor_analyzer import calculate_kmo\n",
    "\n",
    "from sklearn import preprocessing\n",
    "from sklearn.ensemble import AdaBoostRegressor\n",
    "from sklearn.ensemble import RandomForestRegressor\n",
    "from sklearn.decomposition import PCA\n",
    "from sklearn.linear_model import LinearRegression, LogisticRegression\n",
    "from sklearn.metrics import explained_variance_score, max_error, mean_absolute_error, mean_squared_error\n",
    "from sklearn.metrics import mean_squared_log_error, median_absolute_error, r2_score, mean_poisson_deviance, mean_gamma_deviance\n",
    "from sklearn.model_selection import GridSearchCV\n",
    "from sklearn.model_selection import train_test_split\n",
    "from sklearn.neighbors import KNeighborsRegressor\n",
    "from sklearn.preprocessing import scale\n",
    "from sklearn.preprocessing import StandardScaler\n",
    "from sklearn.svm import SVR\n",
    "from sklearn.tree import DecisionTreeRegressor\n",
    "\n",
    "from tensorflow.keras import layers\n",
    "\n",
    "warnings.filterwarnings('ignore')\n",
    "sns.set_style('whitegrid')\n",
    "plt.style.use(['dark_background'])\n",
    "\n",
    "df_raw = pd.read_csv('SpotifyFeatures.csv')"
   ]
  },
  {
   "cell_type": "code",
   "execution_count": 12,
   "metadata": {
    "colab": {
     "base_uri": "https://localhost:8080/"
    },
    "id": "UiBcFFFoed-f",
    "outputId": "a8a91152-5afb-45ab-efdd-76ed0eaba4a3"
   },
   "outputs": [
    {
     "data": {
      "text/plain": [
       "Index(['genre', 'artist_name', 'track_name', 'track_id', 'popularity',\n",
       "       'acousticness', 'danceability', 'duration_ms', 'energy',\n",
       "       'instrumentalness', 'key', 'liveness', 'loudness', 'mode',\n",
       "       'speechiness', 'tempo', 'time_signature', 'valence'],\n",
       "      dtype='object')"
      ]
     },
     "execution_count": 12,
     "metadata": {},
     "output_type": "execute_result"
    }
   ],
   "source": [
    "# Columnas del dataset\n",
    "df_raw.keys()"
   ]
  },
  {
   "cell_type": "markdown",
   "metadata": {
    "id": "nN_IiUhciaHn"
   },
   "source": [
    "Se usaran las variables duration_ms, danceability, energy, key, loudness, mode, speechiness, acousticness, instrumentalness, valence, tempo\n",
    "\n",
    "La variable objetivo es popularity\n",
    "\n",
    "* `duration_ms`: duración en milisegundos de la canción\n",
    "* `danceability`: qué tan bailable es una canción, en una escala del 0.0 al 1.0\n",
    "* `energy`: qué tan energética es una canción, en una escela del 0.0 al 1.0\n",
    "* `key`: tono de la canción (https://es.wikipedia.org/wiki/Clases_de_tonos) que corresponde al índice (0-11) de cada nota\n",
    "* `loudness`: qué tan ruidosa es una canción, en decibeles (dB)\n",
    "* `mode`: indica si la modalidad de la canción es mayor (1) o menor (0)\n",
    "* `speechiness`: qué tantas palabras 'habladas' están presentes en la pista, en una escala del 0.0 al 1.0\n",
    "* `acousticness`: qué tan acústica es una canción, en una escala del 0.0 al 1.0\n",
    "* `instrumentalness`: qué tan instrumental es la canción, en una escala del 0.0 al 1.0\n",
    "* `valence`: qué tan positiva o animada es una canción, en una escala del 0.0 al 1.0\n",
    "* `tempo`: el tempo de la canción en BPM\n",
    "\n",
    "https://developer.spotify.com/documentation/web-api/reference/#object-audiofeaturesobject\n"
   ]
  },
  {
   "cell_type": "markdown",
   "metadata": {
    "id": "Mgw7V2t1i-oh"
   },
   "source": [
    "# EDA\n",
    "\n"
   ]
  },
  {
   "cell_type": "markdown",
   "metadata": {
    "id": "T4G3CyJHo49y"
   },
   "source": [
    "## Datos erróneos\n",
    "\n",
    "Se revisa si existen registros fuera de rango (potenciales errores)"
   ]
  },
  {
   "cell_type": "code",
   "execution_count": 13,
   "metadata": {
    "colab": {
     "base_uri": "https://localhost:8080/",
     "height": 297
    },
    "id": "6cE3K3MRjSP7",
    "outputId": "87b57c4f-4ba5-4ff2-8693-f544dae9e2b5"
   },
   "outputs": [
    {
     "data": {
      "text/html": [
       "<div>\n",
       "<style scoped>\n",
       "    .dataframe tbody tr th:only-of-type {\n",
       "        vertical-align: middle;\n",
       "    }\n",
       "\n",
       "    .dataframe tbody tr th {\n",
       "        vertical-align: top;\n",
       "    }\n",
       "\n",
       "    .dataframe thead th {\n",
       "        text-align: right;\n",
       "    }\n",
       "</style>\n",
       "<table border=\"1\" class=\"dataframe\">\n",
       "  <thead>\n",
       "    <tr style=\"text-align: right;\">\n",
       "      <th></th>\n",
       "      <th>popularity</th>\n",
       "      <th>acousticness</th>\n",
       "      <th>danceability</th>\n",
       "      <th>duration_ms</th>\n",
       "      <th>energy</th>\n",
       "      <th>instrumentalness</th>\n",
       "      <th>liveness</th>\n",
       "      <th>loudness</th>\n",
       "      <th>speechiness</th>\n",
       "      <th>tempo</th>\n",
       "      <th>valence</th>\n",
       "    </tr>\n",
       "  </thead>\n",
       "  <tbody>\n",
       "    <tr>\n",
       "      <th>count</th>\n",
       "      <td>232725.000000</td>\n",
       "      <td>232725.000000</td>\n",
       "      <td>232725.000000</td>\n",
       "      <td>2.327250e+05</td>\n",
       "      <td>232725.000000</td>\n",
       "      <td>232725.000000</td>\n",
       "      <td>232725.000000</td>\n",
       "      <td>232725.000000</td>\n",
       "      <td>232725.000000</td>\n",
       "      <td>232725.000000</td>\n",
       "      <td>232725.000000</td>\n",
       "    </tr>\n",
       "    <tr>\n",
       "      <th>mean</th>\n",
       "      <td>41.127502</td>\n",
       "      <td>0.368560</td>\n",
       "      <td>0.554364</td>\n",
       "      <td>2.351223e+05</td>\n",
       "      <td>0.570958</td>\n",
       "      <td>0.148301</td>\n",
       "      <td>0.215009</td>\n",
       "      <td>-9.569885</td>\n",
       "      <td>0.120765</td>\n",
       "      <td>117.666585</td>\n",
       "      <td>0.454917</td>\n",
       "    </tr>\n",
       "    <tr>\n",
       "      <th>std</th>\n",
       "      <td>18.189948</td>\n",
       "      <td>0.354768</td>\n",
       "      <td>0.185608</td>\n",
       "      <td>1.189359e+05</td>\n",
       "      <td>0.263456</td>\n",
       "      <td>0.302768</td>\n",
       "      <td>0.198273</td>\n",
       "      <td>5.998204</td>\n",
       "      <td>0.185518</td>\n",
       "      <td>30.898907</td>\n",
       "      <td>0.260065</td>\n",
       "    </tr>\n",
       "    <tr>\n",
       "      <th>min</th>\n",
       "      <td>0.000000</td>\n",
       "      <td>0.000000</td>\n",
       "      <td>0.056900</td>\n",
       "      <td>1.538700e+04</td>\n",
       "      <td>0.000020</td>\n",
       "      <td>0.000000</td>\n",
       "      <td>0.009670</td>\n",
       "      <td>-52.457000</td>\n",
       "      <td>0.022200</td>\n",
       "      <td>30.379000</td>\n",
       "      <td>0.000000</td>\n",
       "    </tr>\n",
       "    <tr>\n",
       "      <th>25%</th>\n",
       "      <td>29.000000</td>\n",
       "      <td>0.037600</td>\n",
       "      <td>0.435000</td>\n",
       "      <td>1.828570e+05</td>\n",
       "      <td>0.385000</td>\n",
       "      <td>0.000000</td>\n",
       "      <td>0.097400</td>\n",
       "      <td>-11.771000</td>\n",
       "      <td>0.036700</td>\n",
       "      <td>92.959000</td>\n",
       "      <td>0.237000</td>\n",
       "    </tr>\n",
       "    <tr>\n",
       "      <th>50%</th>\n",
       "      <td>43.000000</td>\n",
       "      <td>0.232000</td>\n",
       "      <td>0.571000</td>\n",
       "      <td>2.204270e+05</td>\n",
       "      <td>0.605000</td>\n",
       "      <td>0.000044</td>\n",
       "      <td>0.128000</td>\n",
       "      <td>-7.762000</td>\n",
       "      <td>0.050100</td>\n",
       "      <td>115.778000</td>\n",
       "      <td>0.444000</td>\n",
       "    </tr>\n",
       "    <tr>\n",
       "      <th>75%</th>\n",
       "      <td>55.000000</td>\n",
       "      <td>0.722000</td>\n",
       "      <td>0.692000</td>\n",
       "      <td>2.657680e+05</td>\n",
       "      <td>0.787000</td>\n",
       "      <td>0.035800</td>\n",
       "      <td>0.264000</td>\n",
       "      <td>-5.501000</td>\n",
       "      <td>0.105000</td>\n",
       "      <td>139.054000</td>\n",
       "      <td>0.660000</td>\n",
       "    </tr>\n",
       "    <tr>\n",
       "      <th>max</th>\n",
       "      <td>100.000000</td>\n",
       "      <td>0.996000</td>\n",
       "      <td>0.989000</td>\n",
       "      <td>5.552917e+06</td>\n",
       "      <td>0.999000</td>\n",
       "      <td>0.999000</td>\n",
       "      <td>1.000000</td>\n",
       "      <td>3.744000</td>\n",
       "      <td>0.967000</td>\n",
       "      <td>242.903000</td>\n",
       "      <td>1.000000</td>\n",
       "    </tr>\n",
       "  </tbody>\n",
       "</table>\n",
       "</div>"
      ],
      "text/plain": [
       "          popularity   acousticness   danceability   duration_ms  \\\n",
       "count  232725.000000  232725.000000  232725.000000  2.327250e+05   \n",
       "mean       41.127502       0.368560       0.554364  2.351223e+05   \n",
       "std        18.189948       0.354768       0.185608  1.189359e+05   \n",
       "min         0.000000       0.000000       0.056900  1.538700e+04   \n",
       "25%        29.000000       0.037600       0.435000  1.828570e+05   \n",
       "50%        43.000000       0.232000       0.571000  2.204270e+05   \n",
       "75%        55.000000       0.722000       0.692000  2.657680e+05   \n",
       "max       100.000000       0.996000       0.989000  5.552917e+06   \n",
       "\n",
       "              energy  instrumentalness       liveness       loudness  \\\n",
       "count  232725.000000     232725.000000  232725.000000  232725.000000   \n",
       "mean        0.570958          0.148301       0.215009      -9.569885   \n",
       "std         0.263456          0.302768       0.198273       5.998204   \n",
       "min         0.000020          0.000000       0.009670     -52.457000   \n",
       "25%         0.385000          0.000000       0.097400     -11.771000   \n",
       "50%         0.605000          0.000044       0.128000      -7.762000   \n",
       "75%         0.787000          0.035800       0.264000      -5.501000   \n",
       "max         0.999000          0.999000       1.000000       3.744000   \n",
       "\n",
       "         speechiness          tempo        valence  \n",
       "count  232725.000000  232725.000000  232725.000000  \n",
       "mean        0.120765     117.666585       0.454917  \n",
       "std         0.185518      30.898907       0.260065  \n",
       "min         0.022200      30.379000       0.000000  \n",
       "25%         0.036700      92.959000       0.237000  \n",
       "50%         0.050100     115.778000       0.444000  \n",
       "75%         0.105000     139.054000       0.660000  \n",
       "max         0.967000     242.903000       1.000000  "
      ]
     },
     "execution_count": 13,
     "metadata": {},
     "output_type": "execute_result"
    }
   ],
   "source": [
    "df_raw.describe()"
   ]
  },
  {
   "cell_type": "markdown",
   "metadata": {
    "id": "hL-MuAQkl4GU"
   },
   "source": [
    "De acuerdo con las descripciones de las variables, obtenidas de la documentación de la API de Spotify, ninguna variable presenta valores máximos o mínimos fuera de lo esperable."
   ]
  },
  {
   "cell_type": "markdown",
   "metadata": {
    "id": "ivr8OwN4mX94"
   },
   "source": [
    "## Datos perdidos\n",
    "Se revisa si existen registros nulos que correspondan a valores perdidos"
   ]
  },
  {
   "cell_type": "code",
   "execution_count": 14,
   "metadata": {
    "colab": {
     "base_uri": "https://localhost:8080/"
    },
    "id": "M86aXVzvmgYh",
    "outputId": "c5e3f3de-f234-4ce0-958a-9268030d4bc0",
    "scrolled": true
   },
   "outputs": [
    {
     "name": "stdout",
     "output_type": "stream",
     "text": [
      "<class 'pandas.core.frame.DataFrame'>\n",
      "RangeIndex: 232725 entries, 0 to 232724\n",
      "Data columns (total 18 columns):\n",
      " #   Column            Non-Null Count   Dtype  \n",
      "---  ------            --------------   -----  \n",
      " 0   genre             232725 non-null  object \n",
      " 1   artist_name       232725 non-null  object \n",
      " 2   track_name        232725 non-null  object \n",
      " 3   track_id          232725 non-null  object \n",
      " 4   popularity        232725 non-null  int64  \n",
      " 5   acousticness      232725 non-null  float64\n",
      " 6   danceability      232725 non-null  float64\n",
      " 7   duration_ms       232725 non-null  int64  \n",
      " 8   energy            232725 non-null  float64\n",
      " 9   instrumentalness  232725 non-null  float64\n",
      " 10  key               232725 non-null  object \n",
      " 11  liveness          232725 non-null  float64\n",
      " 12  loudness          232725 non-null  float64\n",
      " 13  mode              232725 non-null  object \n",
      " 14  speechiness       232725 non-null  float64\n",
      " 15  tempo             232725 non-null  float64\n",
      " 16  time_signature    232725 non-null  object \n",
      " 17  valence           232725 non-null  float64\n",
      "dtypes: float64(9), int64(2), object(7)\n",
      "memory usage: 32.0+ MB\n"
     ]
    }
   ],
   "source": [
    "df_raw.info()"
   ]
  },
  {
   "cell_type": "markdown",
   "metadata": {
    "id": "wb613qN2mpBx"
   },
   "source": [
    "No hay pérdida de datos"
   ]
  },
  {
   "cell_type": "code",
   "execution_count": 15,
   "metadata": {
    "colab": {
     "base_uri": "https://localhost:8080/"
    },
    "id": "lUzJ5DDRm8To",
    "outputId": "23c8fc91-7d66-4056-9a07-2225bd5e4773"
   },
   "outputs": [
    {
     "data": {
      "text/plain": [
       "genre               0\n",
       "artist_name         0\n",
       "track_name          0\n",
       "track_id            0\n",
       "popularity          0\n",
       "acousticness        0\n",
       "danceability        0\n",
       "duration_ms         0\n",
       "energy              0\n",
       "instrumentalness    0\n",
       "key                 0\n",
       "liveness            0\n",
       "loudness            0\n",
       "mode                0\n",
       "speechiness         0\n",
       "tempo               0\n",
       "time_signature      0\n",
       "valence             0\n",
       "dtype: int64"
      ]
     },
     "execution_count": 15,
     "metadata": {},
     "output_type": "execute_result"
    }
   ],
   "source": [
    "pd.isnull(df_raw).sum()"
   ]
  },
  {
   "cell_type": "code",
   "execution_count": 16,
   "metadata": {
    "colab": {
     "base_uri": "https://localhost:8080/",
     "height": 514
    },
    "id": "EEPjqxXnnPxI",
    "outputId": "2d55bc6e-4ee2-4135-ba2f-7ac8df33c73d"
   },
   "outputs": [
    {
     "data": {
      "text/html": [
       "<div>\n",
       "<style scoped>\n",
       "    .dataframe tbody tr th:only-of-type {\n",
       "        vertical-align: middle;\n",
       "    }\n",
       "\n",
       "    .dataframe tbody tr th {\n",
       "        vertical-align: top;\n",
       "    }\n",
       "\n",
       "    .dataframe thead th {\n",
       "        text-align: right;\n",
       "    }\n",
       "</style>\n",
       "<table border=\"1\" class=\"dataframe\">\n",
       "  <thead>\n",
       "    <tr style=\"text-align: right;\">\n",
       "      <th></th>\n",
       "      <th>popularity</th>\n",
       "      <th>acousticness</th>\n",
       "      <th>danceability</th>\n",
       "      <th>duration_ms</th>\n",
       "      <th>energy</th>\n",
       "      <th>instrumentalness</th>\n",
       "      <th>liveness</th>\n",
       "      <th>loudness</th>\n",
       "      <th>speechiness</th>\n",
       "      <th>tempo</th>\n",
       "      <th>valence</th>\n",
       "    </tr>\n",
       "  </thead>\n",
       "  <tbody>\n",
       "    <tr>\n",
       "      <th>popularity</th>\n",
       "      <td>1.000000</td>\n",
       "      <td>-0.381295</td>\n",
       "      <td>0.256564</td>\n",
       "      <td>0.002348</td>\n",
       "      <td>0.248922</td>\n",
       "      <td>-0.210983</td>\n",
       "      <td>-0.167995</td>\n",
       "      <td>0.363011</td>\n",
       "      <td>-0.151076</td>\n",
       "      <td>0.081039</td>\n",
       "      <td>0.060076</td>\n",
       "    </tr>\n",
       "    <tr>\n",
       "      <th>acousticness</th>\n",
       "      <td>-0.381295</td>\n",
       "      <td>1.000000</td>\n",
       "      <td>-0.364546</td>\n",
       "      <td>0.011203</td>\n",
       "      <td>-0.725576</td>\n",
       "      <td>0.316154</td>\n",
       "      <td>0.069004</td>\n",
       "      <td>-0.690202</td>\n",
       "      <td>0.150935</td>\n",
       "      <td>-0.238247</td>\n",
       "      <td>-0.325798</td>\n",
       "    </tr>\n",
       "    <tr>\n",
       "      <th>danceability</th>\n",
       "      <td>0.256564</td>\n",
       "      <td>-0.364546</td>\n",
       "      <td>1.000000</td>\n",
       "      <td>-0.125781</td>\n",
       "      <td>0.325807</td>\n",
       "      <td>-0.364941</td>\n",
       "      <td>-0.041684</td>\n",
       "      <td>0.438668</td>\n",
       "      <td>0.134560</td>\n",
       "      <td>0.021939</td>\n",
       "      <td>0.547154</td>\n",
       "    </tr>\n",
       "    <tr>\n",
       "      <th>duration_ms</th>\n",
       "      <td>0.002348</td>\n",
       "      <td>0.011203</td>\n",
       "      <td>-0.125781</td>\n",
       "      <td>1.000000</td>\n",
       "      <td>-0.030550</td>\n",
       "      <td>0.076021</td>\n",
       "      <td>0.023783</td>\n",
       "      <td>-0.047618</td>\n",
       "      <td>-0.016171</td>\n",
       "      <td>-0.028456</td>\n",
       "      <td>-0.141811</td>\n",
       "    </tr>\n",
       "    <tr>\n",
       "      <th>energy</th>\n",
       "      <td>0.248922</td>\n",
       "      <td>-0.725576</td>\n",
       "      <td>0.325807</td>\n",
       "      <td>-0.030550</td>\n",
       "      <td>1.000000</td>\n",
       "      <td>-0.378957</td>\n",
       "      <td>0.192801</td>\n",
       "      <td>0.816088</td>\n",
       "      <td>0.145120</td>\n",
       "      <td>0.228774</td>\n",
       "      <td>0.436771</td>\n",
       "    </tr>\n",
       "    <tr>\n",
       "      <th>instrumentalness</th>\n",
       "      <td>-0.210983</td>\n",
       "      <td>0.316154</td>\n",
       "      <td>-0.364941</td>\n",
       "      <td>0.076021</td>\n",
       "      <td>-0.378957</td>\n",
       "      <td>1.000000</td>\n",
       "      <td>-0.134198</td>\n",
       "      <td>-0.506320</td>\n",
       "      <td>-0.177147</td>\n",
       "      <td>-0.104133</td>\n",
       "      <td>-0.307522</td>\n",
       "    </tr>\n",
       "    <tr>\n",
       "      <th>liveness</th>\n",
       "      <td>-0.167995</td>\n",
       "      <td>0.069004</td>\n",
       "      <td>-0.041684</td>\n",
       "      <td>0.023783</td>\n",
       "      <td>0.192801</td>\n",
       "      <td>-0.134198</td>\n",
       "      <td>1.000000</td>\n",
       "      <td>0.045686</td>\n",
       "      <td>0.510147</td>\n",
       "      <td>-0.051355</td>\n",
       "      <td>0.011804</td>\n",
       "    </tr>\n",
       "    <tr>\n",
       "      <th>loudness</th>\n",
       "      <td>0.363011</td>\n",
       "      <td>-0.690202</td>\n",
       "      <td>0.438668</td>\n",
       "      <td>-0.047618</td>\n",
       "      <td>0.816088</td>\n",
       "      <td>-0.506320</td>\n",
       "      <td>0.045686</td>\n",
       "      <td>1.000000</td>\n",
       "      <td>-0.002273</td>\n",
       "      <td>0.228364</td>\n",
       "      <td>0.399901</td>\n",
       "    </tr>\n",
       "    <tr>\n",
       "      <th>speechiness</th>\n",
       "      <td>-0.151076</td>\n",
       "      <td>0.150935</td>\n",
       "      <td>0.134560</td>\n",
       "      <td>-0.016171</td>\n",
       "      <td>0.145120</td>\n",
       "      <td>-0.177147</td>\n",
       "      <td>0.510147</td>\n",
       "      <td>-0.002273</td>\n",
       "      <td>1.000000</td>\n",
       "      <td>-0.081541</td>\n",
       "      <td>0.023842</td>\n",
       "    </tr>\n",
       "    <tr>\n",
       "      <th>tempo</th>\n",
       "      <td>0.081039</td>\n",
       "      <td>-0.238247</td>\n",
       "      <td>0.021939</td>\n",
       "      <td>-0.028456</td>\n",
       "      <td>0.228774</td>\n",
       "      <td>-0.104133</td>\n",
       "      <td>-0.051355</td>\n",
       "      <td>0.228364</td>\n",
       "      <td>-0.081541</td>\n",
       "      <td>1.000000</td>\n",
       "      <td>0.134857</td>\n",
       "    </tr>\n",
       "    <tr>\n",
       "      <th>valence</th>\n",
       "      <td>0.060076</td>\n",
       "      <td>-0.325798</td>\n",
       "      <td>0.547154</td>\n",
       "      <td>-0.141811</td>\n",
       "      <td>0.436771</td>\n",
       "      <td>-0.307522</td>\n",
       "      <td>0.011804</td>\n",
       "      <td>0.399901</td>\n",
       "      <td>0.023842</td>\n",
       "      <td>0.134857</td>\n",
       "      <td>1.000000</td>\n",
       "    </tr>\n",
       "  </tbody>\n",
       "</table>\n",
       "</div>"
      ],
      "text/plain": [
       "                  popularity  acousticness  danceability  duration_ms  \\\n",
       "popularity          1.000000     -0.381295      0.256564     0.002348   \n",
       "acousticness       -0.381295      1.000000     -0.364546     0.011203   \n",
       "danceability        0.256564     -0.364546      1.000000    -0.125781   \n",
       "duration_ms         0.002348      0.011203     -0.125781     1.000000   \n",
       "energy              0.248922     -0.725576      0.325807    -0.030550   \n",
       "instrumentalness   -0.210983      0.316154     -0.364941     0.076021   \n",
       "liveness           -0.167995      0.069004     -0.041684     0.023783   \n",
       "loudness            0.363011     -0.690202      0.438668    -0.047618   \n",
       "speechiness        -0.151076      0.150935      0.134560    -0.016171   \n",
       "tempo               0.081039     -0.238247      0.021939    -0.028456   \n",
       "valence             0.060076     -0.325798      0.547154    -0.141811   \n",
       "\n",
       "                    energy  instrumentalness  liveness  loudness  speechiness  \\\n",
       "popularity        0.248922         -0.210983 -0.167995  0.363011    -0.151076   \n",
       "acousticness     -0.725576          0.316154  0.069004 -0.690202     0.150935   \n",
       "danceability      0.325807         -0.364941 -0.041684  0.438668     0.134560   \n",
       "duration_ms      -0.030550          0.076021  0.023783 -0.047618    -0.016171   \n",
       "energy            1.000000         -0.378957  0.192801  0.816088     0.145120   \n",
       "instrumentalness -0.378957          1.000000 -0.134198 -0.506320    -0.177147   \n",
       "liveness          0.192801         -0.134198  1.000000  0.045686     0.510147   \n",
       "loudness          0.816088         -0.506320  0.045686  1.000000    -0.002273   \n",
       "speechiness       0.145120         -0.177147  0.510147 -0.002273     1.000000   \n",
       "tempo             0.228774         -0.104133 -0.051355  0.228364    -0.081541   \n",
       "valence           0.436771         -0.307522  0.011804  0.399901     0.023842   \n",
       "\n",
       "                     tempo   valence  \n",
       "popularity        0.081039  0.060076  \n",
       "acousticness     -0.238247 -0.325798  \n",
       "danceability      0.021939  0.547154  \n",
       "duration_ms      -0.028456 -0.141811  \n",
       "energy            0.228774  0.436771  \n",
       "instrumentalness -0.104133 -0.307522  \n",
       "liveness         -0.051355  0.011804  \n",
       "loudness          0.228364  0.399901  \n",
       "speechiness      -0.081541  0.023842  \n",
       "tempo             1.000000  0.134857  \n",
       "valence           0.134857  1.000000  "
      ]
     },
     "execution_count": 16,
     "metadata": {},
     "output_type": "execute_result"
    }
   ],
   "source": [
    "df_raw.corr()"
   ]
  },
  {
   "cell_type": "markdown",
   "metadata": {
    "id": "GRFGzZtjotFc"
   },
   "source": [
    "## Outliers"
   ]
  },
  {
   "cell_type": "code",
   "execution_count": 17,
   "metadata": {
    "colab": {
     "base_uri": "https://localhost:8080/"
    },
    "id": "uNeqmvkCo9Ou",
    "outputId": "b9b81115-2125-4baa-bd5b-7bd580df1c29"
   },
   "outputs": [
    {
     "name": "stdout",
     "output_type": "stream",
     "text": [
      "popularity             26.0000\n",
      "acousticness            0.6844\n",
      "danceability            0.2570\n",
      "duration_ms         82911.0000\n",
      "energy                  0.4020\n",
      "instrumentalness        0.0358\n",
      "liveness                0.1666\n",
      "loudness                6.2700\n",
      "speechiness             0.0683\n",
      "tempo                  46.0950\n",
      "valence                 0.4230\n",
      "dtype: float64\n"
     ]
    }
   ],
   "source": [
    "Q1 = df_raw.quantile(0.25)\n",
    "Q3 = df_raw.quantile(0.75)\n",
    "IQR = Q3 - Q1\n",
    "print(IQR)"
   ]
  },
  {
   "cell_type": "code",
   "execution_count": 18,
   "metadata": {
    "colab": {
     "base_uri": "https://localhost:8080/"
    },
    "id": "ynd0gFQ_pblk",
    "outputId": "27d288ec-9c0c-49d9-e3af-cb081427fffa"
   },
   "outputs": [
    {
     "data": {
      "text/plain": [
       "popularity            -10.00000\n",
       "acousticness           -0.98900\n",
       "danceability            0.04950\n",
       "duration_ms         58490.50000\n",
       "energy                 -0.21800\n",
       "instrumentalness       -0.05370\n",
       "liveness               -0.15250\n",
       "loudness              -21.17600\n",
       "speechiness            -0.06575\n",
       "tempo                  23.81650\n",
       "valence                -0.39750\n",
       "dtype: float64"
      ]
     },
     "execution_count": 18,
     "metadata": {},
     "output_type": "execute_result"
    }
   ],
   "source": [
    "(Q1 - 1.5 * IQR)"
   ]
  },
  {
   "cell_type": "code",
   "execution_count": 19,
   "metadata": {
    "colab": {
     "base_uri": "https://localhost:8080/"
    },
    "id": "QzvuYGx9pdsu",
    "outputId": "22297408-4677-49e0-9f60-69f5c93410a5"
   },
   "outputs": [
    {
     "data": {
      "text/plain": [
       "popularity              94.00000\n",
       "acousticness             1.74860\n",
       "danceability             1.07750\n",
       "duration_ms         390134.50000\n",
       "energy                   1.39000\n",
       "instrumentalness         0.08950\n",
       "liveness                 0.51390\n",
       "loudness                 3.90400\n",
       "speechiness              0.20745\n",
       "tempo                  208.19650\n",
       "valence                  1.29450\n",
       "dtype: float64"
      ]
     },
     "execution_count": 19,
     "metadata": {},
     "output_type": "execute_result"
    }
   ],
   "source": [
    "(Q3 + 1.5 * IQR)"
   ]
  },
  {
   "cell_type": "markdown",
   "metadata": {
    "id": "rBl4VF0bpoXw"
   },
   "source": [
    "### `popularity`"
   ]
  },
  {
   "cell_type": "code",
   "execution_count": 20,
   "metadata": {
    "colab": {
     "base_uri": "https://localhost:8080/",
     "height": 279
    },
    "id": "tPQvH_wMpsMa",
    "outputId": "6ba6d4a8-f4e4-4918-dbff-3db9d3c98327"
   },
   "outputs": [
    {
     "data": {
      "image/png": "[encoded data removed]",
      "text/plain": [
       "<Figure size 432x288 with 1 Axes>"
      ]
     },
     "metadata": {},
     "output_type": "display_data"
    }
   ],
   "source": [
    "ax = sns.boxplot(x=df_raw['popularity'])"
   ]
  },
  {
   "cell_type": "markdown",
   "metadata": {
    "id": "emshC4q4yNAV"
   },
   "source": [
    "### `genre`"
   ]
  },
  {
   "cell_type": "code",
   "execution_count": 21,
   "metadata": {
    "colab": {
     "base_uri": "https://localhost:8080/",
     "height": 279
    },
    "id": "hRky2WbiyOzX",
    "outputId": "389e8edd-7842-4d1b-b73b-7c9ab098c3ac"
   },
   "outputs": [
    {
     "data": {
      "image/png": "[encoded data removed]",
      "text/plain": [
       "<Figure size 432x288 with 1 Axes>"
      ]
     },
     "metadata": {},
     "output_type": "display_data"
    }
   ],
   "source": [
    "sns.countplot(y='genre', data=df_raw)\n",
    "plt.show()"
   ]
  },
  {
   "cell_type": "markdown",
   "metadata": {
    "id": "q2iaqg78p_nm"
   },
   "source": [
    "### `duration_ms`"
   ]
  },
  {
   "cell_type": "code",
   "execution_count": 22,
   "metadata": {
    "colab": {
     "base_uri": "https://localhost:8080/",
     "height": 280
    },
    "id": "tBYl94aDq455",
    "outputId": "43645af4-20b9-4314-948a-3f94d80c9048"
   },
   "outputs": [
    {
     "data": {
      "image/png": "[encoded data removed]",
      "text/plain": [
       "<Figure size 432x288 with 1 Axes>"
      ]
     },
     "metadata": {},
     "output_type": "display_data"
    }
   ],
   "source": [
    "ax = sns.boxplot(x=df_raw['duration_ms'])"
   ]
  },
  {
   "cell_type": "markdown",
   "metadata": {
    "id": "yyIOrNSRqEMF"
   },
   "source": [
    "### `danceability`"
   ]
  },
  {
   "cell_type": "code",
   "execution_count": 23,
   "metadata": {
    "colab": {
     "base_uri": "https://localhost:8080/",
     "height": 279
    },
    "id": "-fVZ-Vslq_mO",
    "outputId": "a9717166-35fb-4e09-d882-001cce5d21e3"
   },
   "outputs": [
    {
     "data": {
      "image/png": "[encoded data removed]",
      "text/plain": [
       "<Figure size 432x288 with 1 Axes>"
      ]
     },
     "metadata": {},
     "output_type": "display_data"
    }
   ],
   "source": [
    "ax = sns.boxplot(x=df_raw['danceability'])"
   ]
  },
  {
   "cell_type": "markdown",
   "metadata": {
    "id": "Swp0zPCcqHzb"
   },
   "source": [
    "### `energy`"
   ]
  },
  {
   "cell_type": "code",
   "execution_count": 24,
   "metadata": {
    "colab": {
     "base_uri": "https://localhost:8080/",
     "height": 279
    },
    "id": "Cw4Mcy08rEsf",
    "outputId": "a44085a2-3937-41dc-d279-7e96bb79c240"
   },
   "outputs": [
    {
     "data": {
      "image/png": "[encoded data removed]",
      "text/plain": [
       "<Figure size 432x288 with 1 Axes>"
      ]
     },
     "metadata": {},
     "output_type": "display_data"
    }
   ],
   "source": [
    "ax = sns.boxplot(x=df_raw['energy'])"
   ]
  },
  {
   "cell_type": "markdown",
   "metadata": {
    "id": "fY2Tdhd-qJcU"
   },
   "source": [
    "### `key`"
   ]
  },
  {
   "cell_type": "code",
   "execution_count": 25,
   "metadata": {
    "colab": {
     "base_uri": "https://localhost:8080/",
     "height": 279
    },
    "id": "R2sBGOHUrXEG",
    "outputId": "237acbdc-d9b7-44c9-88e6-2e2110676d23"
   },
   "outputs": [
    {
     "data": {
      "image/png": "[encoded data removed]",
      "text/plain": [
       "<Figure size 432x288 with 1 Axes>"
      ]
     },
     "metadata": {},
     "output_type": "display_data"
    }
   ],
   "source": [
    "sns.countplot(x='key', data=df_raw)\n",
    "plt.show()"
   ]
  },
  {
   "cell_type": "markdown",
   "metadata": {
    "id": "2yXQVSGuqNg0"
   },
   "source": [
    "### `loudness`"
   ]
  },
  {
   "cell_type": "code",
   "execution_count": 26,
   "metadata": {
    "colab": {
     "base_uri": "https://localhost:8080/",
     "height": 279
    },
    "id": "4aXLfCalreLf",
    "outputId": "6cbab4a7-1c19-4e7f-c5c7-731b0107a026"
   },
   "outputs": [
    {
     "data": {
      "image/png": "[encoded data removed]",
      "text/plain": [
       "<Figure size 432x288 with 1 Axes>"
      ]
     },
     "metadata": {},
     "output_type": "display_data"
    }
   ],
   "source": [
    "ax = sns.boxplot(x=df_raw['loudness'])"
   ]
  },
  {
   "cell_type": "markdown",
   "metadata": {
    "id": "sFp0-b1gqPGH"
   },
   "source": [
    "### `mode`"
   ]
  },
  {
   "cell_type": "code",
   "execution_count": 27,
   "metadata": {
    "colab": {
     "base_uri": "https://localhost:8080/",
     "height": 279
    },
    "id": "UU6ykUu-rjI2",
    "outputId": "4b1e293d-00e3-4ed4-f056-c1be4b0c5f2f"
   },
   "outputs": [
    {
     "data": {
      "image/png": "[encoded data removed]",
      "text/plain": [
       "<Figure size 432x288 with 1 Axes>"
      ]
     },
     "metadata": {},
     "output_type": "display_data"
    }
   ],
   "source": [
    "sns.countplot(y='mode', data=df_raw)\n",
    "plt.show()"
   ]
  },
  {
   "cell_type": "markdown",
   "metadata": {
    "id": "uBAPYy8rqQfS"
   },
   "source": [
    "### `speechiness`"
   ]
  },
  {
   "cell_type": "code",
   "execution_count": 28,
   "metadata": {
    "colab": {
     "base_uri": "https://localhost:8080/",
     "height": 279
    },
    "id": "uHKjAjNQrqji",
    "outputId": "b7d7820f-fee7-41f1-c0ec-926acebc92d7"
   },
   "outputs": [
    {
     "data": {
      "image/png": "[encoded data removed]",
      "text/plain": [
       "<Figure size 432x288 with 1 Axes>"
      ]
     },
     "metadata": {},
     "output_type": "display_data"
    }
   ],
   "source": [
    "ax = sns.boxplot(x=df_raw['speechiness'])"
   ]
  },
  {
   "cell_type": "markdown",
   "metadata": {
    "id": "UsfKSANKqzPn"
   },
   "source": [
    "### `acousticness`"
   ]
  },
  {
   "cell_type": "code",
   "execution_count": 29,
   "metadata": {
    "colab": {
     "base_uri": "https://localhost:8080/",
     "height": 279
    },
    "id": "RMM0N4rprvKL",
    "outputId": "6332d65b-b561-4508-e04c-c2b8a64c3c52"
   },
   "outputs": [
    {
     "data": {
      "image/png": "[encoded data removed]",
      "text/plain": [
       "<Figure size 432x288 with 1 Axes>"
      ]
     },
     "metadata": {},
     "output_type": "display_data"
    }
   ],
   "source": [
    "ax = sns.boxplot(x=df_raw['acousticness'])"
   ]
  },
  {
   "cell_type": "markdown",
   "metadata": {
    "id": "EolfkX76qS9A"
   },
   "source": [
    "### `instrumentalness`"
   ]
  },
  {
   "cell_type": "code",
   "execution_count": 30,
   "metadata": {
    "colab": {
     "base_uri": "https://localhost:8080/",
     "height": 279
    },
    "id": "b2I6bbcXr52E",
    "outputId": "fb4d60f5-b0f6-4b62-871c-0eada7bdec3b"
   },
   "outputs": [
    {
     "data": {
      "image/png": "[encoded data removed]",
      "text/plain": [
       "<Figure size 432x288 with 1 Axes>"
      ]
     },
     "metadata": {},
     "output_type": "display_data"
    }
   ],
   "source": [
    "ax = sns.boxplot(x=df_raw['instrumentalness'])"
   ]
  },
  {
   "cell_type": "markdown",
   "metadata": {
    "id": "A5tmCh0IqaTs"
   },
   "source": [
    "### `valence`"
   ]
  },
  {
   "cell_type": "code",
   "execution_count": 31,
   "metadata": {
    "colab": {
     "base_uri": "https://localhost:8080/",
     "height": 279
    },
    "id": "7ZTB0gdVsDmi",
    "outputId": "24078171-7820-47e7-97a2-dc2f280c7bcf"
   },
   "outputs": [
    {
     "data": {
      "image/png": "[encoded data removed]",
      "text/plain": [
       "<Figure size 432x288 with 1 Axes>"
      ]
     },
     "metadata": {},
     "output_type": "display_data"
    }
   ],
   "source": [
    "ax = sns.boxplot(x=df_raw['valence'])"
   ]
  },
  {
   "cell_type": "markdown",
   "metadata": {
    "id": "IsZqob1pqcBN"
   },
   "source": [
    "### `tempo`"
   ]
  },
  {
   "cell_type": "code",
   "execution_count": 32,
   "metadata": {
    "colab": {
     "base_uri": "https://localhost:8080/",
     "height": 279
    },
    "id": "faotA_4CsGYp",
    "outputId": "449cfc1e-2b3d-4d1b-d5c6-c3dd8d673987"
   },
   "outputs": [
    {
     "data": {
      "image/png": "[encoded data removed]",
      "text/plain": [
       "<Figure size 432x288 with 1 Axes>"
      ]
     },
     "metadata": {},
     "output_type": "display_data"
    }
   ],
   "source": [
    "ax = sns.boxplot(x=df_raw['tempo'])"
   ]
  },
  {
   "cell_type": "markdown",
   "metadata": {
    "id": "rHIS8JqgsfWh"
   },
   "source": [
    "# Tratamiento de datos"
   ]
  },
  {
   "cell_type": "code",
   "execution_count": 3,
   "metadata": {
    "id": "wRvk-7DXsq8S"
   },
   "outputs": [],
   "source": [
    "# Se crea copia del dataframe original \n",
    "\n",
    "df = df_raw.copy()"
   ]
  },
  {
   "cell_type": "code",
   "execution_count": 4,
   "metadata": {
    "id": "9o1g-Zp-tT9O"
   },
   "outputs": [],
   "source": [
    "# Se eliminan las columnas que no se utilizarán\n",
    "\n",
    "df.drop(['artist_name', 'track_name', 'track_id', 'liveness', 'time_signature'], axis = 1, inplace = True)"
   ]
  },
  {
   "cell_type": "code",
   "execution_count": 5,
   "metadata": {
    "colab": {
     "base_uri": "https://localhost:8080/",
     "height": 204
    },
    "id": "4WN39YL3uxAZ",
    "outputId": "237789db-e819-4a60-96b3-8d31dd5b724b"
   },
   "outputs": [
    {
     "data": {
      "text/html": [
       "<div>\n",
       "<style scoped>\n",
       "    .dataframe tbody tr th:only-of-type {\n",
       "        vertical-align: middle;\n",
       "    }\n",
       "\n",
       "    .dataframe tbody tr th {\n",
       "        vertical-align: top;\n",
       "    }\n",
       "\n",
       "    .dataframe thead th {\n",
       "        text-align: right;\n",
       "    }\n",
       "</style>\n",
       "<table border=\"1\" class=\"dataframe\">\n",
       "  <thead>\n",
       "    <tr style=\"text-align: right;\">\n",
       "      <th></th>\n",
       "      <th>genre</th>\n",
       "      <th>popularity</th>\n",
       "      <th>acousticness</th>\n",
       "      <th>danceability</th>\n",
       "      <th>duration_ms</th>\n",
       "      <th>energy</th>\n",
       "      <th>instrumentalness</th>\n",
       "      <th>key</th>\n",
       "      <th>loudness</th>\n",
       "      <th>mode</th>\n",
       "      <th>speechiness</th>\n",
       "      <th>tempo</th>\n",
       "      <th>valence</th>\n",
       "    </tr>\n",
       "  </thead>\n",
       "  <tbody>\n",
       "    <tr>\n",
       "      <th>0</th>\n",
       "      <td>Movie</td>\n",
       "      <td>0</td>\n",
       "      <td>0.611</td>\n",
       "      <td>0.389</td>\n",
       "      <td>99373</td>\n",
       "      <td>0.910</td>\n",
       "      <td>0.000</td>\n",
       "      <td>C#</td>\n",
       "      <td>-1.828</td>\n",
       "      <td>Major</td>\n",
       "      <td>0.0525</td>\n",
       "      <td>166.969</td>\n",
       "      <td>0.814</td>\n",
       "    </tr>\n",
       "    <tr>\n",
       "      <th>1</th>\n",
       "      <td>Movie</td>\n",
       "      <td>1</td>\n",
       "      <td>0.246</td>\n",
       "      <td>0.590</td>\n",
       "      <td>137373</td>\n",
       "      <td>0.737</td>\n",
       "      <td>0.000</td>\n",
       "      <td>F#</td>\n",
       "      <td>-5.559</td>\n",
       "      <td>Minor</td>\n",
       "      <td>0.0868</td>\n",
       "      <td>174.003</td>\n",
       "      <td>0.816</td>\n",
       "    </tr>\n",
       "    <tr>\n",
       "      <th>2</th>\n",
       "      <td>Movie</td>\n",
       "      <td>3</td>\n",
       "      <td>0.952</td>\n",
       "      <td>0.663</td>\n",
       "      <td>170267</td>\n",
       "      <td>0.131</td>\n",
       "      <td>0.000</td>\n",
       "      <td>C</td>\n",
       "      <td>-13.879</td>\n",
       "      <td>Minor</td>\n",
       "      <td>0.0362</td>\n",
       "      <td>99.488</td>\n",
       "      <td>0.368</td>\n",
       "    </tr>\n",
       "    <tr>\n",
       "      <th>3</th>\n",
       "      <td>Movie</td>\n",
       "      <td>0</td>\n",
       "      <td>0.703</td>\n",
       "      <td>0.240</td>\n",
       "      <td>152427</td>\n",
       "      <td>0.326</td>\n",
       "      <td>0.000</td>\n",
       "      <td>C#</td>\n",
       "      <td>-12.178</td>\n",
       "      <td>Major</td>\n",
       "      <td>0.0395</td>\n",
       "      <td>171.758</td>\n",
       "      <td>0.227</td>\n",
       "    </tr>\n",
       "    <tr>\n",
       "      <th>4</th>\n",
       "      <td>Movie</td>\n",
       "      <td>4</td>\n",
       "      <td>0.950</td>\n",
       "      <td>0.331</td>\n",
       "      <td>82625</td>\n",
       "      <td>0.225</td>\n",
       "      <td>0.123</td>\n",
       "      <td>F</td>\n",
       "      <td>-21.150</td>\n",
       "      <td>Major</td>\n",
       "      <td>0.0456</td>\n",
       "      <td>140.576</td>\n",
       "      <td>0.390</td>\n",
       "    </tr>\n",
       "  </tbody>\n",
       "</table>\n",
       "</div>"
      ],
      "text/plain": [
       "   genre  popularity  acousticness  danceability  duration_ms  energy  \\\n",
       "0  Movie           0         0.611         0.389        99373   0.910   \n",
       "1  Movie           1         0.246         0.590       137373   0.737   \n",
       "2  Movie           3         0.952         0.663       170267   0.131   \n",
       "3  Movie           0         0.703         0.240       152427   0.326   \n",
       "4  Movie           4         0.950         0.331        82625   0.225   \n",
       "\n",
       "   instrumentalness key  loudness   mode  speechiness    tempo  valence  \n",
       "0             0.000  C#    -1.828  Major       0.0525  166.969    0.814  \n",
       "1             0.000  F#    -5.559  Minor       0.0868  174.003    0.816  \n",
       "2             0.000   C   -13.879  Minor       0.0362   99.488    0.368  \n",
       "3             0.000  C#   -12.178  Major       0.0395  171.758    0.227  \n",
       "4             0.123   F   -21.150  Major       0.0456  140.576    0.390  "
      ]
     },
     "execution_count": 5,
     "metadata": {},
     "output_type": "execute_result"
    }
   ],
   "source": [
    "df.head()"
   ]
  },
  {
   "cell_type": "code",
   "execution_count": null,
   "metadata": {},
   "outputs": [],
   "source": []
  }
 ],
 "metadata": {
  "colab": {
   "collapsed_sections": [],
   "name": "spotify.ipynb",
   "provenance": [],
   "toc_visible": true
  },
  "kernelspec": {
   "display_name": "Python 3",
   "language": "python",
   "name": "python3"
  },
  "language_info": {
   "codemirror_mode": {
    "name": "ipython",
    "version": 3
   },
   "file_extension": ".py",
   "mimetype": "text/x-python",
   "name": "python",
   "nbconvert_exporter": "python",
   "pygments_lexer": "ipython3",
   "version": "3.8.5"
  }
 },
 "nbformat": 4,
 "nbformat_minor": 1
}
